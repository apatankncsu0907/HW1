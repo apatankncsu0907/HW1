{
 "cells": [
  {
   "cell_type": "markdown",
   "metadata": {
    "nbgrader": {
     "grade": false,
     "grade_id": "cell-df76861e6b3d5417",
     "locked": true,
     "schema_version": 3,
     "solution": false,
     "task": false
    }
   },
   "source": [
    "# Homework 1\n",
    "\n",
    "In this homework you will be doing Decision Tree classification on the Breast Cancer dataset.\n",
    "We will also be using data preprocessing to test ways to improve the classifier.\n"
   ]
  },
  {
   "cell_type": "markdown",
   "metadata": {
    "nbgrader": {
     "grade": false,
     "grade_id": "cell-445df16c3a9c5382",
     "locked": true,
     "schema_version": 3,
     "solution": false,
     "task": false
    }
   },
   "source": [
    "## Import all necessary libraries"
   ]
  },
  {
   "cell_type": "code",
   "execution_count": 145,
   "metadata": {
    "nbgrader": {
     "grade": false,
     "grade_id": "cell-1b92d511365b5816",
     "locked": true,
     "schema_version": 3,
     "solution": false,
     "task": false
    }
   },
   "outputs": [],
   "source": [
    "# you should be familiar with numpy, pandas and matplotlib from HW0\n",
    "import numpy as np\n",
    "import pandas as pd\n",
    "import matplotlib.pyplot as plt\n",
    "\n",
    "# we're using the Breast Cancer dataset from sklearn.datasets\n",
    "from sklearn import datasets\n",
    "\n",
    "# we will also be using the PCA library from scikit learn for this exercise\n",
    "from sklearn.decomposition import PCA\n",
    "\n",
    "# we will use the StandardScaler method to z-score normalize our data\n",
    "from sklearn.preprocessing import StandardScaler\n",
    "\n",
    "# Remember you have to run this cell block before continuing!\n"
   ]
  },
  {
   "cell_type": "code",
   "execution_count": 147,
   "metadata": {
    "nbgrader": {
     "grade": false,
     "grade_id": "cell-cb4995075486ce2e",
     "locked": true,
     "schema_version": 3,
     "solution": false,
     "task": false
    },
    "scrolled": true
   },
   "outputs": [
    {
     "data": {
      "text/html": [
       "<div>\n",
       "<style scoped>\n",
       "    .dataframe tbody tr th:only-of-type {\n",
       "        vertical-align: middle;\n",
       "    }\n",
       "\n",
       "    .dataframe tbody tr th {\n",
       "        vertical-align: top;\n",
       "    }\n",
       "\n",
       "    .dataframe thead th {\n",
       "        text-align: right;\n",
       "    }\n",
       "</style>\n",
       "<table border=\"1\" class=\"dataframe\">\n",
       "  <thead>\n",
       "    <tr style=\"text-align: right;\">\n",
       "      <th></th>\n",
       "      <th>mean radius</th>\n",
       "      <th>mean texture</th>\n",
       "      <th>mean perimeter</th>\n",
       "      <th>mean area</th>\n",
       "      <th>mean smoothness</th>\n",
       "      <th>mean compactness</th>\n",
       "      <th>mean concavity</th>\n",
       "      <th>mean concave points</th>\n",
       "      <th>mean symmetry</th>\n",
       "      <th>mean fractal dimension</th>\n",
       "      <th>...</th>\n",
       "      <th>worst texture</th>\n",
       "      <th>worst perimeter</th>\n",
       "      <th>worst area</th>\n",
       "      <th>worst smoothness</th>\n",
       "      <th>worst compactness</th>\n",
       "      <th>worst concavity</th>\n",
       "      <th>worst concave points</th>\n",
       "      <th>worst symmetry</th>\n",
       "      <th>worst fractal dimension</th>\n",
       "      <th>target</th>\n",
       "    </tr>\n",
       "  </thead>\n",
       "  <tbody>\n",
       "    <tr>\n",
       "      <th>0</th>\n",
       "      <td>17.99</td>\n",
       "      <td>10.38</td>\n",
       "      <td>122.80</td>\n",
       "      <td>1001.0</td>\n",
       "      <td>0.11840</td>\n",
       "      <td>0.27760</td>\n",
       "      <td>0.30010</td>\n",
       "      <td>0.14710</td>\n",
       "      <td>0.2419</td>\n",
       "      <td>0.07871</td>\n",
       "      <td>...</td>\n",
       "      <td>17.33</td>\n",
       "      <td>184.60</td>\n",
       "      <td>2019.0</td>\n",
       "      <td>0.16220</td>\n",
       "      <td>0.66560</td>\n",
       "      <td>0.7119</td>\n",
       "      <td>0.2654</td>\n",
       "      <td>0.4601</td>\n",
       "      <td>0.11890</td>\n",
       "      <td>0</td>\n",
       "    </tr>\n",
       "    <tr>\n",
       "      <th>1</th>\n",
       "      <td>20.57</td>\n",
       "      <td>17.77</td>\n",
       "      <td>132.90</td>\n",
       "      <td>1326.0</td>\n",
       "      <td>0.08474</td>\n",
       "      <td>0.07864</td>\n",
       "      <td>0.08690</td>\n",
       "      <td>0.07017</td>\n",
       "      <td>0.1812</td>\n",
       "      <td>0.05667</td>\n",
       "      <td>...</td>\n",
       "      <td>23.41</td>\n",
       "      <td>158.80</td>\n",
       "      <td>1956.0</td>\n",
       "      <td>0.12380</td>\n",
       "      <td>0.18660</td>\n",
       "      <td>0.2416</td>\n",
       "      <td>0.1860</td>\n",
       "      <td>0.2750</td>\n",
       "      <td>0.08902</td>\n",
       "      <td>0</td>\n",
       "    </tr>\n",
       "    <tr>\n",
       "      <th>2</th>\n",
       "      <td>19.69</td>\n",
       "      <td>21.25</td>\n",
       "      <td>130.00</td>\n",
       "      <td>1203.0</td>\n",
       "      <td>0.10960</td>\n",
       "      <td>0.15990</td>\n",
       "      <td>0.19740</td>\n",
       "      <td>0.12790</td>\n",
       "      <td>0.2069</td>\n",
       "      <td>0.05999</td>\n",
       "      <td>...</td>\n",
       "      <td>25.53</td>\n",
       "      <td>152.50</td>\n",
       "      <td>1709.0</td>\n",
       "      <td>0.14440</td>\n",
       "      <td>0.42450</td>\n",
       "      <td>0.4504</td>\n",
       "      <td>0.2430</td>\n",
       "      <td>0.3613</td>\n",
       "      <td>0.08758</td>\n",
       "      <td>0</td>\n",
       "    </tr>\n",
       "    <tr>\n",
       "      <th>3</th>\n",
       "      <td>11.42</td>\n",
       "      <td>20.38</td>\n",
       "      <td>77.58</td>\n",
       "      <td>386.1</td>\n",
       "      <td>0.14250</td>\n",
       "      <td>0.28390</td>\n",
       "      <td>0.24140</td>\n",
       "      <td>0.10520</td>\n",
       "      <td>0.2597</td>\n",
       "      <td>0.09744</td>\n",
       "      <td>...</td>\n",
       "      <td>26.50</td>\n",
       "      <td>98.87</td>\n",
       "      <td>567.7</td>\n",
       "      <td>0.20980</td>\n",
       "      <td>0.86630</td>\n",
       "      <td>0.6869</td>\n",
       "      <td>0.2575</td>\n",
       "      <td>0.6638</td>\n",
       "      <td>0.17300</td>\n",
       "      <td>0</td>\n",
       "    </tr>\n",
       "    <tr>\n",
       "      <th>4</th>\n",
       "      <td>20.29</td>\n",
       "      <td>14.34</td>\n",
       "      <td>135.10</td>\n",
       "      <td>1297.0</td>\n",
       "      <td>0.10030</td>\n",
       "      <td>0.13280</td>\n",
       "      <td>0.19800</td>\n",
       "      <td>0.10430</td>\n",
       "      <td>0.1809</td>\n",
       "      <td>0.05883</td>\n",
       "      <td>...</td>\n",
       "      <td>16.67</td>\n",
       "      <td>152.20</td>\n",
       "      <td>1575.0</td>\n",
       "      <td>0.13740</td>\n",
       "      <td>0.20500</td>\n",
       "      <td>0.4000</td>\n",
       "      <td>0.1625</td>\n",
       "      <td>0.2364</td>\n",
       "      <td>0.07678</td>\n",
       "      <td>0</td>\n",
       "    </tr>\n",
       "    <tr>\n",
       "      <th>...</th>\n",
       "      <td>...</td>\n",
       "      <td>...</td>\n",
       "      <td>...</td>\n",
       "      <td>...</td>\n",
       "      <td>...</td>\n",
       "      <td>...</td>\n",
       "      <td>...</td>\n",
       "      <td>...</td>\n",
       "      <td>...</td>\n",
       "      <td>...</td>\n",
       "      <td>...</td>\n",
       "      <td>...</td>\n",
       "      <td>...</td>\n",
       "      <td>...</td>\n",
       "      <td>...</td>\n",
       "      <td>...</td>\n",
       "      <td>...</td>\n",
       "      <td>...</td>\n",
       "      <td>...</td>\n",
       "      <td>...</td>\n",
       "      <td>...</td>\n",
       "    </tr>\n",
       "    <tr>\n",
       "      <th>564</th>\n",
       "      <td>21.56</td>\n",
       "      <td>22.39</td>\n",
       "      <td>142.00</td>\n",
       "      <td>1479.0</td>\n",
       "      <td>0.11100</td>\n",
       "      <td>0.11590</td>\n",
       "      <td>0.24390</td>\n",
       "      <td>0.13890</td>\n",
       "      <td>0.1726</td>\n",
       "      <td>0.05623</td>\n",
       "      <td>...</td>\n",
       "      <td>26.40</td>\n",
       "      <td>166.10</td>\n",
       "      <td>2027.0</td>\n",
       "      <td>0.14100</td>\n",
       "      <td>0.21130</td>\n",
       "      <td>0.4107</td>\n",
       "      <td>0.2216</td>\n",
       "      <td>0.2060</td>\n",
       "      <td>0.07115</td>\n",
       "      <td>0</td>\n",
       "    </tr>\n",
       "    <tr>\n",
       "      <th>565</th>\n",
       "      <td>20.13</td>\n",
       "      <td>28.25</td>\n",
       "      <td>131.20</td>\n",
       "      <td>1261.0</td>\n",
       "      <td>0.09780</td>\n",
       "      <td>0.10340</td>\n",
       "      <td>0.14400</td>\n",
       "      <td>0.09791</td>\n",
       "      <td>0.1752</td>\n",
       "      <td>0.05533</td>\n",
       "      <td>...</td>\n",
       "      <td>38.25</td>\n",
       "      <td>155.00</td>\n",
       "      <td>1731.0</td>\n",
       "      <td>0.11660</td>\n",
       "      <td>0.19220</td>\n",
       "      <td>0.3215</td>\n",
       "      <td>0.1628</td>\n",
       "      <td>0.2572</td>\n",
       "      <td>0.06637</td>\n",
       "      <td>0</td>\n",
       "    </tr>\n",
       "    <tr>\n",
       "      <th>566</th>\n",
       "      <td>16.60</td>\n",
       "      <td>28.08</td>\n",
       "      <td>108.30</td>\n",
       "      <td>858.1</td>\n",
       "      <td>0.08455</td>\n",
       "      <td>0.10230</td>\n",
       "      <td>0.09251</td>\n",
       "      <td>0.05302</td>\n",
       "      <td>0.1590</td>\n",
       "      <td>0.05648</td>\n",
       "      <td>...</td>\n",
       "      <td>34.12</td>\n",
       "      <td>126.70</td>\n",
       "      <td>1124.0</td>\n",
       "      <td>0.11390</td>\n",
       "      <td>0.30940</td>\n",
       "      <td>0.3403</td>\n",
       "      <td>0.1418</td>\n",
       "      <td>0.2218</td>\n",
       "      <td>0.07820</td>\n",
       "      <td>0</td>\n",
       "    </tr>\n",
       "    <tr>\n",
       "      <th>567</th>\n",
       "      <td>20.60</td>\n",
       "      <td>29.33</td>\n",
       "      <td>140.10</td>\n",
       "      <td>1265.0</td>\n",
       "      <td>0.11780</td>\n",
       "      <td>0.27700</td>\n",
       "      <td>0.35140</td>\n",
       "      <td>0.15200</td>\n",
       "      <td>0.2397</td>\n",
       "      <td>0.07016</td>\n",
       "      <td>...</td>\n",
       "      <td>39.42</td>\n",
       "      <td>184.60</td>\n",
       "      <td>1821.0</td>\n",
       "      <td>0.16500</td>\n",
       "      <td>0.86810</td>\n",
       "      <td>0.9387</td>\n",
       "      <td>0.2650</td>\n",
       "      <td>0.4087</td>\n",
       "      <td>0.12400</td>\n",
       "      <td>0</td>\n",
       "    </tr>\n",
       "    <tr>\n",
       "      <th>568</th>\n",
       "      <td>7.76</td>\n",
       "      <td>24.54</td>\n",
       "      <td>47.92</td>\n",
       "      <td>181.0</td>\n",
       "      <td>0.05263</td>\n",
       "      <td>0.04362</td>\n",
       "      <td>0.00000</td>\n",
       "      <td>0.00000</td>\n",
       "      <td>0.1587</td>\n",
       "      <td>0.05884</td>\n",
       "      <td>...</td>\n",
       "      <td>30.37</td>\n",
       "      <td>59.16</td>\n",
       "      <td>268.6</td>\n",
       "      <td>0.08996</td>\n",
       "      <td>0.06444</td>\n",
       "      <td>0.0000</td>\n",
       "      <td>0.0000</td>\n",
       "      <td>0.2871</td>\n",
       "      <td>0.07039</td>\n",
       "      <td>1</td>\n",
       "    </tr>\n",
       "  </tbody>\n",
       "</table>\n",
       "<p>569 rows × 31 columns</p>\n",
       "</div>"
      ],
      "text/plain": [
       "     mean radius  mean texture  mean perimeter  mean area  mean smoothness  \\\n",
       "0          17.99         10.38          122.80     1001.0          0.11840   \n",
       "1          20.57         17.77          132.90     1326.0          0.08474   \n",
       "2          19.69         21.25          130.00     1203.0          0.10960   \n",
       "3          11.42         20.38           77.58      386.1          0.14250   \n",
       "4          20.29         14.34          135.10     1297.0          0.10030   \n",
       "..           ...           ...             ...        ...              ...   \n",
       "564        21.56         22.39          142.00     1479.0          0.11100   \n",
       "565        20.13         28.25          131.20     1261.0          0.09780   \n",
       "566        16.60         28.08          108.30      858.1          0.08455   \n",
       "567        20.60         29.33          140.10     1265.0          0.11780   \n",
       "568         7.76         24.54           47.92      181.0          0.05263   \n",
       "\n",
       "     mean compactness  mean concavity  mean concave points  mean symmetry  \\\n",
       "0             0.27760         0.30010              0.14710         0.2419   \n",
       "1             0.07864         0.08690              0.07017         0.1812   \n",
       "2             0.15990         0.19740              0.12790         0.2069   \n",
       "3             0.28390         0.24140              0.10520         0.2597   \n",
       "4             0.13280         0.19800              0.10430         0.1809   \n",
       "..                ...             ...                  ...            ...   \n",
       "564           0.11590         0.24390              0.13890         0.1726   \n",
       "565           0.10340         0.14400              0.09791         0.1752   \n",
       "566           0.10230         0.09251              0.05302         0.1590   \n",
       "567           0.27700         0.35140              0.15200         0.2397   \n",
       "568           0.04362         0.00000              0.00000         0.1587   \n",
       "\n",
       "     mean fractal dimension  ...  worst texture  worst perimeter  worst area  \\\n",
       "0                   0.07871  ...          17.33           184.60      2019.0   \n",
       "1                   0.05667  ...          23.41           158.80      1956.0   \n",
       "2                   0.05999  ...          25.53           152.50      1709.0   \n",
       "3                   0.09744  ...          26.50            98.87       567.7   \n",
       "4                   0.05883  ...          16.67           152.20      1575.0   \n",
       "..                      ...  ...            ...              ...         ...   \n",
       "564                 0.05623  ...          26.40           166.10      2027.0   \n",
       "565                 0.05533  ...          38.25           155.00      1731.0   \n",
       "566                 0.05648  ...          34.12           126.70      1124.0   \n",
       "567                 0.07016  ...          39.42           184.60      1821.0   \n",
       "568                 0.05884  ...          30.37            59.16       268.6   \n",
       "\n",
       "     worst smoothness  worst compactness  worst concavity  \\\n",
       "0             0.16220            0.66560           0.7119   \n",
       "1             0.12380            0.18660           0.2416   \n",
       "2             0.14440            0.42450           0.4504   \n",
       "3             0.20980            0.86630           0.6869   \n",
       "4             0.13740            0.20500           0.4000   \n",
       "..                ...                ...              ...   \n",
       "564           0.14100            0.21130           0.4107   \n",
       "565           0.11660            0.19220           0.3215   \n",
       "566           0.11390            0.30940           0.3403   \n",
       "567           0.16500            0.86810           0.9387   \n",
       "568           0.08996            0.06444           0.0000   \n",
       "\n",
       "     worst concave points  worst symmetry  worst fractal dimension  target  \n",
       "0                  0.2654          0.4601                  0.11890       0  \n",
       "1                  0.1860          0.2750                  0.08902       0  \n",
       "2                  0.2430          0.3613                  0.08758       0  \n",
       "3                  0.2575          0.6638                  0.17300       0  \n",
       "4                  0.1625          0.2364                  0.07678       0  \n",
       "..                    ...             ...                      ...     ...  \n",
       "564                0.2216          0.2060                  0.07115       0  \n",
       "565                0.1628          0.2572                  0.06637       0  \n",
       "566                0.1418          0.2218                  0.07820       0  \n",
       "567                0.2650          0.4087                  0.12400       0  \n",
       "568                0.0000          0.2871                  0.07039       1  \n",
       "\n",
       "[569 rows x 31 columns]"
      ]
     },
     "execution_count": 147,
     "metadata": {},
     "output_type": "execute_result"
    }
   ],
   "source": [
    "# Load the dataset\n",
    "breast_cancer_sk = datasets.load_breast_cancer(as_frame=True)\n",
    "breast_cancer = pd.DataFrame(breast_cancer_sk.data, columns = breast_cancer_sk.feature_names)\n",
    "breast_cancer[\"target\"] = breast_cancer_sk.target\n",
    "breast_cancer"
   ]
  },
  {
   "cell_type": "markdown",
   "metadata": {
    "nbgrader": {
     "grade": false,
     "grade_id": "cell-9c30171bad3bafef",
     "locked": true,
     "schema_version": 3,
     "solution": false,
     "task": false
    }
   },
   "source": [
    "## 1. Random Sampling [Anurata Hridi]\n",
    "\n",
    "In this following exercise, you will be writting code to implement random sampling without replacement from scratch. No additional libraries are allowed."
   ]
  },
  {
   "cell_type": "code",
   "execution_count": 162,
   "metadata": {},
   "outputs": [],
   "source": [
    "# Random is the only additional library you can use for this problem\n",
    "import random\n",
    "\n",
    "def random_sampling(data, n):\n",
    "    \"\"\"\n",
    "    Input: data: the pandas dataframe to sample.\n",
    "           n: the number of samples (rows) to take\n",
    "    Output: The randomly sampled dataset (without replacement) as a pd.Dataframe.\n",
    "    Hint: You should look up the random.shuffle function\n",
    "    \"\"\"\n",
    "    indices = list(data.index)\n",
    "    random.shuffle(indices)\n",
    "    selected_indices = indices[:n]\n",
    "    return data.loc[selected_indices]\n"
   ]
  },
  {
   "cell_type": "code",
   "execution_count": 164,
   "metadata": {},
   "outputs": [],
   "source": [
    "# Test your function\n",
    "sample = random_sampling(breast_cancer,30)                                                                                                                                                                                     "
   ]
  },
  {
   "cell_type": "code",
   "execution_count": 160,
   "metadata": {},
   "outputs": [
    {
     "data": {
      "image/png": "[encoded data removed]",
      "text/plain": [
       "<Figure size 640x480 with 1 Axes>"
      ]
     },
     "metadata": {},
     "output_type": "display_data"
    }
   ],
   "source": [
    "# Look at the distribution of the species (target attribute)\n",
    "# How evenly are the species distributed with random sampling?\n",
    "\n",
    "class_counts = sample['target'].value_counts()\n",
    "plt.bar(class_counts.index, class_counts.values, color=['blue', 'red'])\n",
    "plt.xticks([0, 1], ['Benign (0)', 'Malignant (1)'])\n",
    "plt.ylabel('Number of Samples')\n",
    "plt.title('Randomly Sampled Data: Benign vs Malignant')\n",
    "plt.show()\n"
   ]
  },
  {
   "cell_type": "code",
   "execution_count": 166,
   "metadata": {},
   "outputs": [
    {
     "data": {
      "image/png": "[encoded data removed]",
      "text/plain": [
       "<Figure size 640x480 with 1 Axes>"
      ]
     },
     "metadata": {},
     "output_type": "display_data"
    }
   ],
   "source": [
    "# Try running it again - are the results the same?\n",
    "class_counts = sample['target'].value_counts()\n",
    "plt.bar(class_counts.index, class_counts.values, color=['blue', 'red'])\n",
    "plt.xticks([0, 1], ['Benign (0)', 'Malignant (1)'])\n",
    "plt.ylabel('Number of Samples')\n",
    "plt.title('Randomly Sampled Data: Benign vs Malignant')\n",
    "plt.show()"
   ]
  },
  {
   "cell_type": "code",
   "execution_count": 168,
   "metadata": {},
   "outputs": [],
   "source": [
    "# Assert that the correct number of rows were samples\n",
    "np.testing.assert_equal(sample.shape,(30, 31))\n",
    "# Assert sampling was done without replacement\n",
    "assert sample.drop_duplicates().shape[0] == 30\n",
    "# Assert that the first row is present in the original dataframe\n",
    "assert any([(breast_cancer.iloc[i,:] == sample.iloc[0,:]).all() for i in breast_cancer.index])"
   ]
  },
  {
   "cell_type": "markdown",
   "metadata": {
    "nbgrader": {
     "grade": false,
     "grade_id": "cell-d63a83e3a1c6f263",
     "locked": true,
     "schema_version": 3,
     "solution": false,
     "task": false
    }
   },
   "source": [
    "## 2. Stratified sampling [Anurata Hridi]\n",
    "\n",
    "In this part, you will be writing code to do stratified sampling. Create a stratrified sample of the `breast_cancer` dataset, with 40 objects, that has an equal number of each **target** value (0 and 1).\n",
    "\n",
    "**Store it in the variable `stratified_breast_cancer`**.\n",
    "\n",
    "**Hint**: You should read about the [split-apply-combine](https://pandas.pydata.org/pandas-docs/stable/user_guide/groupby.html) coding pattern in Pandas before starting this problem! In particular pay attention to the following:\n",
    "* [Splitting an object into groups](https://pandas.pydata.org/pandas-docs/stable/user_guide/groupby.html#splitting-an-object-into-groups)\n",
    "* [Transformation](https://pandas.pydata.org/pandas-docs/stable/user_guide/groupby.html#transformation)\n"
   ]
  },
  {
   "cell_type": "code",
   "execution_count": 171,
   "metadata": {},
   "outputs": [],
   "source": [
    "def stratified_sampling(data, n, attr):\n",
    "    \"\"\"\n",
    "    Input: data: the dataset to sample\n",
    "           n: the number of instances sampled from each value of the given attribute\n",
    "           attr: the attribute to stratify on\n",
    "    Output: The sampled dataset in pd.Dataframe format\n",
    "    \n",
    "    Allowed functions: df.groupby, df.apply, df.sample\n",
    "    Hint: See the link in the function description above.\n",
    "    \"\"\"\n",
    "    stratified_sample = data.groupby(attr, group_keys=False).apply(lambda x: x.sample(n=n))\n",
    "    return stratified_sample.reset_index(drop=True)"
   ]
  },
  {
   "cell_type": "code",
   "execution_count": 173,
   "metadata": {},
   "outputs": [
    {
     "name": "stderr",
     "output_type": "stream",
     "text": [
      "/var/folders/y7/8w_nzg796694ts21qkcmd9hh0000gn/T/ipykernel_1046/2080718199.py:11: DeprecationWarning: DataFrameGroupBy.apply operated on the grouping columns. This behavior is deprecated, and in a future version of pandas the grouping columns will be excluded from the operation. Either pass `include_groups=False` to exclude the groupings or explicitly select the grouping columns after groupby to silence this warning.\n",
      "  stratified_sample = data.groupby(attr, group_keys=False).apply(lambda x: x.sample(n=n))\n"
     ]
    }
   ],
   "source": [
    "# Test your function!\n",
    "stratified_breast_cancer = stratified_sampling(breast_cancer, 10, 'target')\n",
    "\n",
    "# View your output"
   ]
  },
  {
   "cell_type": "code",
   "execution_count": 175,
   "metadata": {},
   "outputs": [
    {
     "data": {
      "image/png": "[encoded data removed]",
      "text/plain": [
       "<Figure size 640x480 with 1 Axes>"
      ]
     },
     "metadata": {},
     "output_type": "display_data"
    }
   ],
   "source": [
    "# look at distribution of target values, they supposed to be equally sampled.\n",
    "plt.hist(stratified_breast_cancer[\"target\"])\n",
    "plt.show()\n",
    "assert(stratified_breast_cancer.shape[0] == 20)\n",
    "assert(sum(stratified_breast_cancer.target == 0) == 10)\n",
    "assert(sum(stratified_breast_cancer.target == 1) == 10)"
   ]
  },
  {
   "cell_type": "markdown",
   "metadata": {
    "nbgrader": {
     "grade": false,
     "grade_id": "cell-95e3fb2c7191077b",
     "locked": true,
     "schema_version": 3,
     "solution": false,
     "task": false
    }
   },
   "source": [
    "## 3. Decision Trees [Vodelina Samatova]\n",
    "\n",
    "Now we are going to classify the malignant versus benign cases (the zeros versus the ones) with Decision Trees.\n",
    "\n",
    "You can perform classification using a DecisionTree in python using the scikit-learn library. \n",
    "\n",
    "Take a look at the [documentation](https://scikit-learn.org/stable/modules/generated/sklearn.tree.DecisionTreeClassifier.html#sklearn.tree.DecisionTreeClassifier) to get a clear understanding of all function arguments.\n",
    "\n",
    "Given below is a simple toy example for you to learn how to use the DecisionTreeClassifier."
   ]
  },
  {
   "cell_type": "code",
   "execution_count": 178,
   "metadata": {
    "nbgrader": {
     "grade": false,
     "grade_id": "cell-86cae1f3ae8215f2",
     "locked": true,
     "schema_version": 3,
     "solution": false,
     "task": false
    }
   },
   "outputs": [
    {
     "data": {
      "text/html": [
       "<div>\n",
       "<style scoped>\n",
       "    .dataframe tbody tr th:only-of-type {\n",
       "        vertical-align: middle;\n",
       "    }\n",
       "\n",
       "    .dataframe tbody tr th {\n",
       "        vertical-align: top;\n",
       "    }\n",
       "\n",
       "    .dataframe thead th {\n",
       "        text-align: right;\n",
       "    }\n",
       "</style>\n",
       "<table border=\"1\" class=\"dataframe\">\n",
       "  <thead>\n",
       "    <tr style=\"text-align: right;\">\n",
       "      <th></th>\n",
       "      <th>mean radius</th>\n",
       "      <th>mean texture</th>\n",
       "      <th>mean perimeter</th>\n",
       "      <th>mean area</th>\n",
       "      <th>mean smoothness</th>\n",
       "      <th>mean compactness</th>\n",
       "      <th>mean concavity</th>\n",
       "      <th>mean concave points</th>\n",
       "      <th>mean symmetry</th>\n",
       "      <th>mean fractal dimension</th>\n",
       "      <th>...</th>\n",
       "      <th>worst texture</th>\n",
       "      <th>worst perimeter</th>\n",
       "      <th>worst area</th>\n",
       "      <th>worst smoothness</th>\n",
       "      <th>worst compactness</th>\n",
       "      <th>worst concavity</th>\n",
       "      <th>worst concave points</th>\n",
       "      <th>worst symmetry</th>\n",
       "      <th>worst fractal dimension</th>\n",
       "      <th>target</th>\n",
       "    </tr>\n",
       "  </thead>\n",
       "  <tbody>\n",
       "    <tr>\n",
       "      <th>0</th>\n",
       "      <td>17.99</td>\n",
       "      <td>10.38</td>\n",
       "      <td>122.80</td>\n",
       "      <td>1001.0</td>\n",
       "      <td>0.11840</td>\n",
       "      <td>0.27760</td>\n",
       "      <td>0.30010</td>\n",
       "      <td>0.14710</td>\n",
       "      <td>0.2419</td>\n",
       "      <td>0.07871</td>\n",
       "      <td>...</td>\n",
       "      <td>17.33</td>\n",
       "      <td>184.60</td>\n",
       "      <td>2019.0</td>\n",
       "      <td>0.16220</td>\n",
       "      <td>0.66560</td>\n",
       "      <td>0.7119</td>\n",
       "      <td>0.2654</td>\n",
       "      <td>0.4601</td>\n",
       "      <td>0.11890</td>\n",
       "      <td>0</td>\n",
       "    </tr>\n",
       "    <tr>\n",
       "      <th>1</th>\n",
       "      <td>20.57</td>\n",
       "      <td>17.77</td>\n",
       "      <td>132.90</td>\n",
       "      <td>1326.0</td>\n",
       "      <td>0.08474</td>\n",
       "      <td>0.07864</td>\n",
       "      <td>0.08690</td>\n",
       "      <td>0.07017</td>\n",
       "      <td>0.1812</td>\n",
       "      <td>0.05667</td>\n",
       "      <td>...</td>\n",
       "      <td>23.41</td>\n",
       "      <td>158.80</td>\n",
       "      <td>1956.0</td>\n",
       "      <td>0.12380</td>\n",
       "      <td>0.18660</td>\n",
       "      <td>0.2416</td>\n",
       "      <td>0.1860</td>\n",
       "      <td>0.2750</td>\n",
       "      <td>0.08902</td>\n",
       "      <td>0</td>\n",
       "    </tr>\n",
       "    <tr>\n",
       "      <th>2</th>\n",
       "      <td>19.69</td>\n",
       "      <td>21.25</td>\n",
       "      <td>130.00</td>\n",
       "      <td>1203.0</td>\n",
       "      <td>0.10960</td>\n",
       "      <td>0.15990</td>\n",
       "      <td>0.19740</td>\n",
       "      <td>0.12790</td>\n",
       "      <td>0.2069</td>\n",
       "      <td>0.05999</td>\n",
       "      <td>...</td>\n",
       "      <td>25.53</td>\n",
       "      <td>152.50</td>\n",
       "      <td>1709.0</td>\n",
       "      <td>0.14440</td>\n",
       "      <td>0.42450</td>\n",
       "      <td>0.4504</td>\n",
       "      <td>0.2430</td>\n",
       "      <td>0.3613</td>\n",
       "      <td>0.08758</td>\n",
       "      <td>0</td>\n",
       "    </tr>\n",
       "    <tr>\n",
       "      <th>3</th>\n",
       "      <td>11.42</td>\n",
       "      <td>20.38</td>\n",
       "      <td>77.58</td>\n",
       "      <td>386.1</td>\n",
       "      <td>0.14250</td>\n",
       "      <td>0.28390</td>\n",
       "      <td>0.24140</td>\n",
       "      <td>0.10520</td>\n",
       "      <td>0.2597</td>\n",
       "      <td>0.09744</td>\n",
       "      <td>...</td>\n",
       "      <td>26.50</td>\n",
       "      <td>98.87</td>\n",
       "      <td>567.7</td>\n",
       "      <td>0.20980</td>\n",
       "      <td>0.86630</td>\n",
       "      <td>0.6869</td>\n",
       "      <td>0.2575</td>\n",
       "      <td>0.6638</td>\n",
       "      <td>0.17300</td>\n",
       "      <td>0</td>\n",
       "    </tr>\n",
       "    <tr>\n",
       "      <th>4</th>\n",
       "      <td>20.29</td>\n",
       "      <td>14.34</td>\n",
       "      <td>135.10</td>\n",
       "      <td>1297.0</td>\n",
       "      <td>0.10030</td>\n",
       "      <td>0.13280</td>\n",
       "      <td>0.19800</td>\n",
       "      <td>0.10430</td>\n",
       "      <td>0.1809</td>\n",
       "      <td>0.05883</td>\n",
       "      <td>...</td>\n",
       "      <td>16.67</td>\n",
       "      <td>152.20</td>\n",
       "      <td>1575.0</td>\n",
       "      <td>0.13740</td>\n",
       "      <td>0.20500</td>\n",
       "      <td>0.4000</td>\n",
       "      <td>0.1625</td>\n",
       "      <td>0.2364</td>\n",
       "      <td>0.07678</td>\n",
       "      <td>0</td>\n",
       "    </tr>\n",
       "    <tr>\n",
       "      <th>...</th>\n",
       "      <td>...</td>\n",
       "      <td>...</td>\n",
       "      <td>...</td>\n",
       "      <td>...</td>\n",
       "      <td>...</td>\n",
       "      <td>...</td>\n",
       "      <td>...</td>\n",
       "      <td>...</td>\n",
       "      <td>...</td>\n",
       "      <td>...</td>\n",
       "      <td>...</td>\n",
       "      <td>...</td>\n",
       "      <td>...</td>\n",
       "      <td>...</td>\n",
       "      <td>...</td>\n",
       "      <td>...</td>\n",
       "      <td>...</td>\n",
       "      <td>...</td>\n",
       "      <td>...</td>\n",
       "      <td>...</td>\n",
       "      <td>...</td>\n",
       "    </tr>\n",
       "    <tr>\n",
       "      <th>564</th>\n",
       "      <td>21.56</td>\n",
       "      <td>22.39</td>\n",
       "      <td>142.00</td>\n",
       "      <td>1479.0</td>\n",
       "      <td>0.11100</td>\n",
       "      <td>0.11590</td>\n",
       "      <td>0.24390</td>\n",
       "      <td>0.13890</td>\n",
       "      <td>0.1726</td>\n",
       "      <td>0.05623</td>\n",
       "      <td>...</td>\n",
       "      <td>26.40</td>\n",
       "      <td>166.10</td>\n",
       "      <td>2027.0</td>\n",
       "      <td>0.14100</td>\n",
       "      <td>0.21130</td>\n",
       "      <td>0.4107</td>\n",
       "      <td>0.2216</td>\n",
       "      <td>0.2060</td>\n",
       "      <td>0.07115</td>\n",
       "      <td>0</td>\n",
       "    </tr>\n",
       "    <tr>\n",
       "      <th>565</th>\n",
       "      <td>20.13</td>\n",
       "      <td>28.25</td>\n",
       "      <td>131.20</td>\n",
       "      <td>1261.0</td>\n",
       "      <td>0.09780</td>\n",
       "      <td>0.10340</td>\n",
       "      <td>0.14400</td>\n",
       "      <td>0.09791</td>\n",
       "      <td>0.1752</td>\n",
       "      <td>0.05533</td>\n",
       "      <td>...</td>\n",
       "      <td>38.25</td>\n",
       "      <td>155.00</td>\n",
       "      <td>1731.0</td>\n",
       "      <td>0.11660</td>\n",
       "      <td>0.19220</td>\n",
       "      <td>0.3215</td>\n",
       "      <td>0.1628</td>\n",
       "      <td>0.2572</td>\n",
       "      <td>0.06637</td>\n",
       "      <td>0</td>\n",
       "    </tr>\n",
       "    <tr>\n",
       "      <th>566</th>\n",
       "      <td>16.60</td>\n",
       "      <td>28.08</td>\n",
       "      <td>108.30</td>\n",
       "      <td>858.1</td>\n",
       "      <td>0.08455</td>\n",
       "      <td>0.10230</td>\n",
       "      <td>0.09251</td>\n",
       "      <td>0.05302</td>\n",
       "      <td>0.1590</td>\n",
       "      <td>0.05648</td>\n",
       "      <td>...</td>\n",
       "      <td>34.12</td>\n",
       "      <td>126.70</td>\n",
       "      <td>1124.0</td>\n",
       "      <td>0.11390</td>\n",
       "      <td>0.30940</td>\n",
       "      <td>0.3403</td>\n",
       "      <td>0.1418</td>\n",
       "      <td>0.2218</td>\n",
       "      <td>0.07820</td>\n",
       "      <td>0</td>\n",
       "    </tr>\n",
       "    <tr>\n",
       "      <th>567</th>\n",
       "      <td>20.60</td>\n",
       "      <td>29.33</td>\n",
       "      <td>140.10</td>\n",
       "      <td>1265.0</td>\n",
       "      <td>0.11780</td>\n",
       "      <td>0.27700</td>\n",
       "      <td>0.35140</td>\n",
       "      <td>0.15200</td>\n",
       "      <td>0.2397</td>\n",
       "      <td>0.07016</td>\n",
       "      <td>...</td>\n",
       "      <td>39.42</td>\n",
       "      <td>184.60</td>\n",
       "      <td>1821.0</td>\n",
       "      <td>0.16500</td>\n",
       "      <td>0.86810</td>\n",
       "      <td>0.9387</td>\n",
       "      <td>0.2650</td>\n",
       "      <td>0.4087</td>\n",
       "      <td>0.12400</td>\n",
       "      <td>0</td>\n",
       "    </tr>\n",
       "    <tr>\n",
       "      <th>568</th>\n",
       "      <td>7.76</td>\n",
       "      <td>24.54</td>\n",
       "      <td>47.92</td>\n",
       "      <td>181.0</td>\n",
       "      <td>0.05263</td>\n",
       "      <td>0.04362</td>\n",
       "      <td>0.00000</td>\n",
       "      <td>0.00000</td>\n",
       "      <td>0.1587</td>\n",
       "      <td>0.05884</td>\n",
       "      <td>...</td>\n",
       "      <td>30.37</td>\n",
       "      <td>59.16</td>\n",
       "      <td>268.6</td>\n",
       "      <td>0.08996</td>\n",
       "      <td>0.06444</td>\n",
       "      <td>0.0000</td>\n",
       "      <td>0.0000</td>\n",
       "      <td>0.2871</td>\n",
       "      <td>0.07039</td>\n",
       "      <td>1</td>\n",
       "    </tr>\n",
       "  </tbody>\n",
       "</table>\n",
       "<p>569 rows × 31 columns</p>\n",
       "</div>"
      ],
      "text/plain": [
       "     mean radius  mean texture  mean perimeter  mean area  mean smoothness  \\\n",
       "0          17.99         10.38          122.80     1001.0          0.11840   \n",
       "1          20.57         17.77          132.90     1326.0          0.08474   \n",
       "2          19.69         21.25          130.00     1203.0          0.10960   \n",
       "3          11.42         20.38           77.58      386.1          0.14250   \n",
       "4          20.29         14.34          135.10     1297.0          0.10030   \n",
       "..           ...           ...             ...        ...              ...   \n",
       "564        21.56         22.39          142.00     1479.0          0.11100   \n",
       "565        20.13         28.25          131.20     1261.0          0.09780   \n",
       "566        16.60         28.08          108.30      858.1          0.08455   \n",
       "567        20.60         29.33          140.10     1265.0          0.11780   \n",
       "568         7.76         24.54           47.92      181.0          0.05263   \n",
       "\n",
       "     mean compactness  mean concavity  mean concave points  mean symmetry  \\\n",
       "0             0.27760         0.30010              0.14710         0.2419   \n",
       "1             0.07864         0.08690              0.07017         0.1812   \n",
       "2             0.15990         0.19740              0.12790         0.2069   \n",
       "3             0.28390         0.24140              0.10520         0.2597   \n",
       "4             0.13280         0.19800              0.10430         0.1809   \n",
       "..                ...             ...                  ...            ...   \n",
       "564           0.11590         0.24390              0.13890         0.1726   \n",
       "565           0.10340         0.14400              0.09791         0.1752   \n",
       "566           0.10230         0.09251              0.05302         0.1590   \n",
       "567           0.27700         0.35140              0.15200         0.2397   \n",
       "568           0.04362         0.00000              0.00000         0.1587   \n",
       "\n",
       "     mean fractal dimension  ...  worst texture  worst perimeter  worst area  \\\n",
       "0                   0.07871  ...          17.33           184.60      2019.0   \n",
       "1                   0.05667  ...          23.41           158.80      1956.0   \n",
       "2                   0.05999  ...          25.53           152.50      1709.0   \n",
       "3                   0.09744  ...          26.50            98.87       567.7   \n",
       "4                   0.05883  ...          16.67           152.20      1575.0   \n",
       "..                      ...  ...            ...              ...         ...   \n",
       "564                 0.05623  ...          26.40           166.10      2027.0   \n",
       "565                 0.05533  ...          38.25           155.00      1731.0   \n",
       "566                 0.05648  ...          34.12           126.70      1124.0   \n",
       "567                 0.07016  ...          39.42           184.60      1821.0   \n",
       "568                 0.05884  ...          30.37            59.16       268.6   \n",
       "\n",
       "     worst smoothness  worst compactness  worst concavity  \\\n",
       "0             0.16220            0.66560           0.7119   \n",
       "1             0.12380            0.18660           0.2416   \n",
       "2             0.14440            0.42450           0.4504   \n",
       "3             0.20980            0.86630           0.6869   \n",
       "4             0.13740            0.20500           0.4000   \n",
       "..                ...                ...              ...   \n",
       "564           0.14100            0.21130           0.4107   \n",
       "565           0.11660            0.19220           0.3215   \n",
       "566           0.11390            0.30940           0.3403   \n",
       "567           0.16500            0.86810           0.9387   \n",
       "568           0.08996            0.06444           0.0000   \n",
       "\n",
       "     worst concave points  worst symmetry  worst fractal dimension  target  \n",
       "0                  0.2654          0.4601                  0.11890       0  \n",
       "1                  0.1860          0.2750                  0.08902       0  \n",
       "2                  0.2430          0.3613                  0.08758       0  \n",
       "3                  0.2575          0.6638                  0.17300       0  \n",
       "4                  0.1625          0.2364                  0.07678       0  \n",
       "..                    ...             ...                      ...     ...  \n",
       "564                0.2216          0.2060                  0.07115       0  \n",
       "565                0.1628          0.2572                  0.06637       0  \n",
       "566                0.1418          0.2218                  0.07820       0  \n",
       "567                0.2650          0.4087                  0.12400       0  \n",
       "568                0.0000          0.2871                  0.07039       1  \n",
       "\n",
       "[569 rows x 31 columns]"
      ]
     },
     "execution_count": 178,
     "metadata": {},
     "output_type": "execute_result"
    }
   ],
   "source": [
    "from sklearn.tree import DecisionTreeClassifier\n",
    "from sklearn.tree import plot_tree\n",
    "# we will use the MinMaxScaler method to scale our data\n",
    "from sklearn.preprocessing import MinMaxScaler\n",
    "from sklearn.model_selection import train_test_split\n",
    "from sklearn.metrics import accuracy_score\n",
    "\n",
    "breast_cancer"
   ]
  },
  {
   "cell_type": "code",
   "execution_count": 180,
   "metadata": {},
   "outputs": [
    {
     "data": {
      "text/plain": [
       "(569,)"
      ]
     },
     "execution_count": 180,
     "metadata": {},
     "output_type": "execute_result"
    }
   ],
   "source": [
    "# y: target\n",
    "# Check the shape of y\n",
    "y = breast_cancer['target']\n",
    "y.shape\n"
   ]
  },
  {
   "cell_type": "code",
   "execution_count": 182,
   "metadata": {},
   "outputs": [
    {
     "data": {
      "text/plain": [
       "(569, 30)"
      ]
     },
     "execution_count": 182,
     "metadata": {},
     "output_type": "execute_result"
    }
   ],
   "source": [
    "# X: predictors\n",
    "# Let's drop the column for the target variable\n",
    "X = breast_cancer.drop(columns=['target'])\n",
    "\n",
    "# Check the shape of X\n",
    "X.shape\n"
   ]
  },
  {
   "cell_type": "markdown",
   "metadata": {
    "nbgrader": {
     "grade": false,
     "grade_id": "cell-08e1947248aafe00",
     "locked": true,
     "schema_version": 3,
     "solution": false,
     "task": false
    }
   },
   "source": [
    "In the first step, we will split our data into train and test subsets. To get more insight into the function we are using here (*train_test_split()*), take a look at [this tutorial.](https://scikit-learn.org/stable/modules/generated/sklearn.model_selection.train_test_split.html)\n",
    "\n",
    "* `X_train` is the features (independent variables) of the training dataset.\n",
    "* `y_train` is the target (dependent) variable of the training dataset.\n",
    "* `X_test` is the features (independent variables) of the test dataset.\n",
    "* `y_test` is the target (dependent) variable of the test dataset."
   ]
  },
  {
   "cell_type": "code",
   "execution_count": 185,
   "metadata": {},
   "outputs": [],
   "source": [
    "def stratified_split(X, y, \n",
    "                     test_size=0.2, \n",
    "                     validate_size=0.2, \n",
    "                     random_state=0):\n",
    "\n",
    "    X_train, X_test, y_train, y_test = train_test_split(\n",
    "        X, y, stratify=y, test_size=test_size, random_state = random_state)\n",
    "\n",
    "    # We need to calculate a new split size (the proportion of validation to the remaining)\n",
    "    \n",
    "    # let's assume we had 100 samples and we don't do this\n",
    "    # then the split will be 20 + (20% of 80) + (80% of 80). \n",
    "    # But we want 20 + 20 + 60\n",
    "    new_validate_size = validate_size / (1 - test_size)\n",
    "    \n",
    "    X_train, X_val, y_train, y_val = train_test_split(\n",
    "        X_train, y_train, stratify=y_train, \n",
    "        test_size=new_validate_size, \n",
    "        random_state = random_state)\n",
    "\n",
    "    return X_train, X_test, X_val, y_train, y_test, y_val"
   ]
  },
  {
   "cell_type": "code",
   "execution_count": 187,
   "metadata": {
    "nbgrader": {
     "grade": false,
     "grade_id": "cell-0d6ef4b8b55ebc23",
     "locked": true,
     "schema_version": 3,
     "solution": false,
     "task": false
    }
   },
   "outputs": [],
   "source": [
    "# Split data into training, validation, and testing data sets\n",
    "X_train, X_test,X_val, y_train, y_test,y_val = stratified_split(X, y,\n",
    "                     test_size=0.2,\n",
    "                     validate_size=0.2,\n",
    "                     random_state=0)\n"
   ]
  },
  {
   "cell_type": "code",
   "execution_count": 189,
   "metadata": {},
   "outputs": [
    {
     "name": "stdout",
     "output_type": "stream",
     "text": [
      "Training (X_train and y_train): \t (341, 30)  \t (341,)\n",
      "Validation (X_val and y_val): \t\t (114, 30)  \t (114,)\n",
      "Testing (X_test and y_test): \t\t (114, 30)   \t (114,)\n"
     ]
    }
   ],
   "source": [
    "# Examine the split proportions \n",
    "\n",
    "print (\"Training (X_train and y_train): \\t\", X_train.shape, \" \\t\", y_train.shape)\n",
    "\n",
    "print (\"Validation (X_val and y_val): \\t\\t\", X_val.shape, \" \\t\", y_val.shape)\n",
    "\n",
    "print (\"Testing (X_test and y_test): \\t\\t\", X_test.shape, \"  \\t\", y_test.shape)"
   ]
  },
  {
   "cell_type": "code",
   "execution_count": 191,
   "metadata": {
    "scrolled": true
   },
   "outputs": [
    {
     "name": "stdout",
     "output_type": "stream",
     "text": [
      "     mean radius  mean texture  mean perimeter  mean area  mean smoothness  \\\n",
      "378       13.660         15.15           88.27      580.6          0.08268   \n",
      "520        9.295         13.90           59.96      257.8          0.13710   \n",
      "71         8.888         14.64           58.79      244.0          0.09783   \n",
      "536       14.270         22.55           93.77      629.8          0.10380   \n",
      "397       12.800         17.46           83.05      508.3          0.08044   \n",
      "..           ...           ...             ...        ...              ...   \n",
      "490       12.250         22.44           78.18      466.5          0.08192   \n",
      "465       13.240         20.13           86.87      542.9          0.08284   \n",
      "204       12.470         18.60           81.09      481.9          0.09965   \n",
      "458       13.000         25.13           82.61      520.2          0.08369   \n",
      "5         12.450         15.70           82.57      477.1          0.12780   \n",
      "\n",
      "     mean compactness  mean concavity  mean concave points  mean symmetry  \\\n",
      "378           0.07548         0.04249              0.02471         0.1792   \n",
      "520           0.12250         0.03332              0.02421         0.2197   \n",
      "71            0.15310         0.08606              0.02872         0.1902   \n",
      "536           0.11540         0.14630              0.06139         0.1926   \n",
      "397           0.08895         0.07390              0.04083         0.1574   \n",
      "..                ...             ...                  ...            ...   \n",
      "490           0.05200         0.01714              0.01261         0.1544   \n",
      "465           0.12230         0.10100              0.02833         0.1601   \n",
      "204           0.10580         0.08005              0.03821         0.1925   \n",
      "458           0.05073         0.01206              0.01762         0.1667   \n",
      "5             0.17000         0.15780              0.08089         0.2087   \n",
      "\n",
      "     mean fractal dimension  ...  worst radius  worst texture  \\\n",
      "378                 0.05897  ...        14.540          19.64   \n",
      "520                 0.07696  ...        10.570          17.84   \n",
      "71                  0.08980  ...         9.733          15.67   \n",
      "536                 0.05982  ...        15.290          34.27   \n",
      "397                 0.05750  ...        13.740          21.06   \n",
      "..                      ...  ...           ...            ...   \n",
      "490                 0.05976  ...        14.170          31.99   \n",
      "465                 0.06432  ...        15.440          25.50   \n",
      "204                 0.06373  ...        14.970          24.64   \n",
      "458                 0.05449  ...        14.340          31.88   \n",
      "5                   0.07613  ...        15.470          23.75   \n",
      "\n",
      "     worst perimeter  worst area  worst smoothness  worst compactness  \\\n",
      "378            97.96       657.0           0.12750             0.3104   \n",
      "520            67.84       326.6           0.18500             0.2097   \n",
      "71             62.56       284.4           0.12070             0.2436   \n",
      "536           104.30       728.3           0.13800             0.2733   \n",
      "397            90.72       591.0           0.09534             0.1812   \n",
      "..               ...         ...               ...                ...   \n",
      "490            92.74       622.9           0.12560             0.1804   \n",
      "465           115.00       733.5           0.12010             0.5646   \n",
      "204            96.05       677.9           0.14260             0.2378   \n",
      "458            91.06       628.5           0.12180             0.1093   \n",
      "5             103.40       741.6           0.17910             0.5249   \n",
      "\n",
      "     worst concavity  worst concave points  worst symmetry  \\\n",
      "378          0.25690               0.10540          0.3387   \n",
      "520          0.09996               0.07262          0.3681   \n",
      "71           0.14340               0.04786          0.2254   \n",
      "536          0.42340               0.13620          0.2698   \n",
      "397          0.19010               0.08296          0.1988   \n",
      "..               ...                   ...             ...   \n",
      "490          0.12300               0.06335          0.3100   \n",
      "465          0.65560               0.13570          0.2845   \n",
      "204          0.26710               0.10150          0.3014   \n",
      "458          0.04462               0.05921          0.2306   \n",
      "5            0.53550               0.17410          0.3985   \n",
      "\n",
      "     worst fractal dimension  \n",
      "378                  0.09638  \n",
      "520                  0.08982  \n",
      "71                   0.10840  \n",
      "536                  0.08351  \n",
      "397                  0.07053  \n",
      "..                       ...  \n",
      "490                  0.08203  \n",
      "465                  0.12490  \n",
      "204                  0.08750  \n",
      "458                  0.06291  \n",
      "5                    0.12440  \n",
      "\n",
      "[341 rows x 30 columns]\n"
     ]
    }
   ],
   "source": [
    "# Inspect X_train\n",
    "print(X_train)\n"
   ]
  },
  {
   "cell_type": "code",
   "execution_count": 193,
   "metadata": {
    "scrolled": true
   },
   "outputs": [
    {
     "name": "stdout",
     "output_type": "stream",
     "text": [
      "378    1\n",
      "520    1\n",
      "71     1\n",
      "536    0\n",
      "397    1\n",
      "      ..\n",
      "490    1\n",
      "465    1\n",
      "204    1\n",
      "458    1\n",
      "5      0\n",
      "Name: target, Length: 341, dtype: int64\n"
     ]
    }
   ],
   "source": [
    "# Inspect y_train\n",
    "print (y_train)"
   ]
  },
  {
   "cell_type": "markdown",
   "metadata": {
    "nbgrader": {
     "grade": false,
     "grade_id": "cell-3ca4dd1d21003d81",
     "locked": true,
     "schema_version": 3,
     "solution": false,
     "task": false
    }
   },
   "source": [
    "Now implement a decision tree function below to do the following:\n",
    "\n",
    "1. Train a decision tree model with the **training datasets** created above (using **gini index** as the criteria and **random_state = 1234** in order to keep consistency).\n",
    "2. Use the model trained from step 1 to make predictions on the **test data** created above\n",
    "\n",
    "**Store the predictions in the variable `dtree_predictions`**. "
   ]
  },
  {
   "cell_type": "code",
   "execution_count": 196,
   "metadata": {
    "nbgrader": {
     "grade": false,
     "grade_id": "dtree",
     "locked": false,
     "schema_version": 3,
     "solution": true,
     "task": false
    }
   },
   "outputs": [],
   "source": [
    "def decision_tree_function(X_train, y_train, X_test, random_state=1234):\n",
    "  dtree = DecisionTreeClassifier(criterion='gini', random_state=1234)\n",
    "  dtree.fit(X_train, y_train)\n",
    "  dtree_predictions = dtree.predict(X_test)\n",
    "  return dtree_predictions\n"
   ]
  },
  {
   "cell_type": "code",
   "execution_count": 198,
   "metadata": {},
   "outputs": [
    {
     "data": {
      "text/plain": [
       "array([0, 0, 0, 1, 0, 1, 0, 1, 1, 0, 0, 1, 0, 1, 1, 0, 0, 1, 0, 0, 1, 0,\n",
       "       1, 1, 1, 0, 0, 1, 0, 1, 0, 1, 0, 1, 1, 1, 1, 0, 1, 1, 0, 1, 0, 1,\n",
       "       1, 0, 1, 0, 1, 1, 0, 1, 0, 0, 1, 1, 0, 1, 0, 0, 0, 1, 1, 1, 1, 1,\n",
       "       1, 1, 1, 1, 0, 1, 0, 1, 0, 1, 1, 1, 1, 1, 0, 1, 0, 1, 1, 1, 1, 0,\n",
       "       1, 1, 0, 1, 1, 0, 0, 0, 1, 1, 0, 1, 1, 1, 1, 1, 1, 1, 1, 1, 1, 0,\n",
       "       0, 1, 1, 1])"
      ]
     },
     "execution_count": 198,
     "metadata": {},
     "output_type": "execute_result"
    }
   ],
   "source": [
    "# Test your result!\n",
    "dtree_predictions= decision_tree_function(X_train,y_train,X_test,y_test)\n",
    "dtree_predictions"
   ]
  },
  {
   "cell_type": "markdown",
   "metadata": {
    "nbgrader": {
     "grade": false,
     "grade_id": "cell-c87ab101a0fff1b2",
     "locked": true,
     "schema_version": 3,
     "solution": false,
     "task": false
    }
   },
   "source": [
    "In this step, you will look into the accuracy score of the decision tree predictions. In other words, you would compare the predictions of the decision tree with the actual test labels you have in the testing set. \n",
    "\n",
    "For more documentation, take a look at [this article.](https://scikit-learn.org/stable/modules/generated/sklearn.metrics.accuracy_score.html)"
   ]
  },
  {
   "cell_type": "code",
   "execution_count": 201,
   "metadata": {
    "scrolled": true
   },
   "outputs": [
    {
     "data": {
      "text/plain": [
       "0.9035087719298246"
      ]
     },
     "execution_count": 201,
     "metadata": {},
     "output_type": "execute_result"
    }
   ],
   "source": [
    "accuracy_score(dtree_predictions, y_test)"
   ]
  },
  {
   "cell_type": "code",
   "execution_count": 203,
   "metadata": {
    "nbgrader": {
     "grade": true,
     "grade_id": "dtree-public",
     "locked": true,
     "points": 2,
     "schema_version": 3,
     "solution": false,
     "task": false
    }
   },
   "outputs": [],
   "source": [
    "# Public tests for dtree\n",
    "np.testing.assert_almost_equal(\n",
    "    accuracy_score(dtree_predictions,\n",
    "                   y_test),\n",
    "    0.9035087719298246\n",
    ")"
   ]
  },
  {
   "cell_type": "markdown",
   "metadata": {
    "nbgrader": {
     "grade": false,
     "grade_id": "cell-f2cfa4389baa6ce4",
     "locked": true,
     "schema_version": 3,
     "solution": false,
     "task": false
    }
   },
   "source": [
    "## 4. Feature Selection [Vodelina Samatova]\n",
    "\n",
    "In this problem, you will see if feature selection can improve the accuracy of your classifier!\n",
    "\n",
    "We do feature selection to remove unnecessary features, and also to see which features are most useful for prediction. You could imagine predicting diabetes progression would be easier if we know which features are relevant for doing so.\n",
    "\n",
    "In the function below, you will implement a feature selection aglorithm, which selects the $k$ best features according to some measure. In this case we'll use the  [ANOVA F-value](https://www.statisticshowto.com/probability-and-statistics/f-statistic-value-test/), which is a measure of the linear relationship between each feature and the target variable (just like correlation).\n",
    "\n",
    "**Note**: Remember, we can't peek at the test data, even during feature selection (if we knew what features were useful on the test dataset, that would be unrealistic). Therefore, it is important that you fit the the feature selction function **ONLY** on the *training* set. One the feature selector is fit (i.e. figures out which features to keep), you can use it to transform both training and testing dataset (`X_train` and `X_test`), i.e. remove the unneeded features.\n",
    "\n",
    "**HINT**: Feature selection is performed using [SelectKBest function](https://scikit-learn.org/stable/modules/generated/sklearn.feature_selection.SelectKBest.html) with [ANOVA F-value](https://scikit-learn.org/stable/modules/generated/sklearn.feature_selection.f_classif.html#sklearn.feature_selection.f_classif) function.\n",
    "\n",
    "**HINT**: In python you can return multiple values, separated by commas, e.g. `return 1, 2, 3`."
   ]
  },
  {
   "cell_type": "code",
   "execution_count": 206,
   "metadata": {
    "nbgrader": {
     "grade": false,
     "grade_id": "feature_selection",
     "locked": false,
     "schema_version": 3,
     "solution": true,
     "task": false
    }
   },
   "outputs": [],
   "source": [
    "from sklearn.feature_selection import SelectKBest\n",
    "from sklearn.feature_selection import f_classif\n",
    "\n",
    "def feature_selection(X_train, y_train, X_test, k=7):\n",
    "    \"\"\"\n",
    "     Input:\n",
    "          x_train: A numpy array of shape (n_training_rows, n_attributes) where n_training_rows refers to \n",
    "          the number of rows in your training dataset and n_attributes refers to the number of attributes. \n",
    "          y_train: A numpy array of shape (n_training_rows, ) containing the class labels for each row in your \n",
    "          training dataset.\n",
    "          x_test: A numpy array of shape (n_testing_rows, n_attributes) where n_testing_rows refers to the number \n",
    "          of rows in your testing dataset and n_attributes refers to the number of attributes. \n",
    "          k: number of features to select.\n",
    "    Output:\n",
    "          fs: The fit feature selector\n",
    "          X_train_selected: The transformed training set, with features selected. \n",
    "                            The result should be a numpy array of shape (n_training_rows, k).\n",
    "          X_test_selected: The transformed testing set, with features selected.\n",
    "    \n",
    "    Allowed Libraries: sklearn\n",
    "    \"\"\"\n",
    "\n",
    "    # define feature selection\n",
    "    fs = SelectKBest(score_func=f_classif, k=k)\n",
    "\n",
    "    # apply feature selection\n",
    "    X_train_selected = fs.fit_transform(X_train, y_train)\n",
    "    X_test_selected = fs.transform(X_test)\n",
    "    return fs, X_train_selected, X_test_selected\n"
   ]
  },
  {
   "cell_type": "code",
   "execution_count": 208,
   "metadata": {},
   "outputs": [
    {
     "name": "stdout",
     "output_type": "stream",
     "text": [
      "[3.88025770e+02 7.08854777e+01 4.18029021e+02 3.36880602e+02\n",
      " 5.01255702e+01 2.05381888e+02 3.95714153e+02 5.53613324e+02\n",
      " 4.34502810e+01 3.52685992e-02 1.84879323e+02 3.68284617e-01\n",
      " 1.77655322e+02 1.60615071e+02 4.51961967e-01 4.28794755e+01\n",
      " 3.85754122e+01 1.01944172e+02 1.46946004e-01 8.18170914e+00\n",
      " 4.79579810e+02 9.18694127e+01 4.95696897e+02 3.52940911e+02\n",
      " 6.96036727e+01 1.84940066e+02 2.81178021e+02 5.70465714e+02\n",
      " 6.35428353e+01 4.64644363e+01]\n",
      "(341, 7)\n",
      "(114, 7)\n"
     ]
    }
   ],
   "source": [
    "# Test your function\n",
    "\n",
    "fs,X_train_selected,X_test_selected = feature_selection(X_train, y_train, X_test, 7)\n",
    "\n",
    "# Check the score for each individual feature (i.e. how important is each feature)\n",
    "print(fs.scores_)\n",
    "\n",
    "# Check whether acheived seven best attributes for both training and testing set\n",
    "print(X_train_selected.shape)\n",
    "print(X_test_selected.shape)"
   ]
  },
  {
   "cell_type": "code",
   "execution_count": 214,
   "metadata": {},
   "outputs": [
    {
     "name": "stdout",
     "output_type": "stream",
     "text": [
      "Original features are: \n",
      "['mean radius' 'mean texture' 'mean perimeter' 'mean area'\n",
      " 'mean smoothness' 'mean compactness' 'mean concavity'\n",
      " 'mean concave points' 'mean symmetry' 'mean fractal dimension'\n",
      " 'radius error' 'texture error' 'perimeter error' 'area error'\n",
      " 'smoothness error' 'compactness error' 'concavity error'\n",
      " 'concave points error' 'symmetry error' 'fractal dimension error'\n",
      " 'worst radius' 'worst texture' 'worst perimeter' 'worst area'\n",
      " 'worst smoothness' 'worst compactness' 'worst concavity'\n",
      " 'worst concave points' 'worst symmetry' 'worst fractal dimension']\n",
      "Selected best feautures are: \n",
      "['mean perimeter' 'mean concave points' 'worst radius' 'worst perimeter'\n",
      " 'worst concave points']\n"
     ]
    }
   ],
   "source": [
    "# Let's get the name of the selected features\n",
    "\n",
    "print(\"Original features are: \\n\" + str(X_train.columns.values))\n",
    "\n",
    "print(\"Selected best feautures are: \\n\" + str(X_train.columns.values[fs.get_support()]))"
   ]
  },
  {
   "cell_type": "code",
   "execution_count": 216,
   "metadata": {
    "nbgrader": {
     "grade": true,
     "grade_id": "feature_selection_public",
     "locked": true,
     "points": 4,
     "schema_version": 3,
     "solution": false,
     "task": false
    }
   },
   "outputs": [],
   "source": [
    "# Public tests for feature_selection\n",
    "fs, selected_train, selected_test = feature_selection(X_train, y_train, X_test, 5)\n",
    "assert (selected_train.shape[1] == 5)\n",
    "assert (selected_test.shape[1] == 5)\n",
    "assert ('concavity error' not in X_train.columns.values[fs.get_support()])\n",
    "assert ('worst radius' in X_train.columns.values[fs.get_support()])"
   ]
  },
  {
   "cell_type": "markdown",
   "metadata": {
    "nbgrader": {
     "grade": false,
     "grade_id": "cell-980493e5987405de2",
     "locked": true,
     "schema_version": 3,
     "solution": false,
     "task": false
    }
   },
   "source": [
    "## 5. Feature Transformation [Sogolsadat Mansouri]"
   ]
  },
  {
   "cell_type": "markdown",
   "metadata": {},
   "source": [
    "Now we will combine feature selection with normalization into a *pipeline*, and test whether it improves our mode.\n",
    "\n",
    "In some cases, you would want to perform certain feature transformations such as z-score normalization.\n",
    "\n",
    "Take a look at the [documentation](https://scikit-learn.org/stable/modules/generated/sklearn.preprocessing.StandardScaler.html) to get a clear understanding of all function argumetns for z-score normalization.\n",
    "\n",
    "Given below is a simple example for you to learn how to use z-score normalization and combine it with other data processing procedures. "
   ]
  },
  {
   "cell_type": "code",
   "execution_count": 220,
   "metadata": {},
   "outputs": [],
   "source": [
    "# let's use a toy dataset to demonstrate z-score normalization. \n",
    "# We are using the wine dataset from sklearn.datasets as our toy dataset.\n",
    "\n",
    "\n",
    "# First load the data\n",
    "breast_cancer_sk = datasets.load_breast_cancer(as_frame=True)\n",
    "breast_cancer[\"target\"] = breast_cancer_sk.target\n",
    "breast_cancer\n",
    "\n",
    "# To emulate an actual model learning process, we split the data set into trainining and testing set\n",
    "breast_cancer_train, breast_cancer_test = train_test_split(breast_cancer, test_size = 0.33)\n",
    "\n",
    "# Here we use StandardScaler class from sklearn to normalize\n",
    "breast_cancer_norm_train = StandardScaler().fit(breast_cancer_train).transform(breast_cancer_train)\n",
    "\n",
    "# Notice here we use the training set to fit the StandardScaler, i.e. compute the mean and standard deviation,\n",
    "# and use it to normalize testing set, just like with feature selection, above.\n",
    "# This is because in real-world deployment case, you very likely won't know the parameter of unseen data distribution\n",
    "# (testing set). So a normal approach is to use distribution parameters estimated from training set to transform\n",
    "# unseen data.\n",
    "breast_cancer_norm_test = StandardScaler().fit(breast_cancer_train).transform(breast_cancer_test)\n"
   ]
  },
  {
   "cell_type": "code",
   "execution_count": 222,
   "metadata": {},
   "outputs": [
    {
     "data": {
      "text/plain": [
       "mean radius                 14.178759\n",
       "mean texture                19.448924\n",
       "mean perimeter              92.297454\n",
       "mean area                  660.649344\n",
       "mean smoothness              0.095747\n",
       "mean compactness             0.103725\n",
       "mean concavity               0.089504\n",
       "mean concave points          0.048589\n",
       "mean symmetry                0.180491\n",
       "mean fractal dimension       0.062625\n",
       "radius error                 0.415405\n",
       "texture error                1.234612\n",
       "perimeter error              2.933862\n",
       "area error                  41.994588\n",
       "smoothness error             0.007016\n",
       "compactness error            0.026023\n",
       "concavity error              0.033106\n",
       "concave points error         0.011995\n",
       "symmetry error               0.020297\n",
       "fractal dimension error      0.003808\n",
       "worst radius                16.378215\n",
       "worst texture               26.003123\n",
       "worst perimeter            107.969659\n",
       "worst area                 895.425722\n",
       "worst smoothness             0.131613\n",
       "worst compactness            0.253611\n",
       "worst concavity              0.275724\n",
       "worst concave points         0.115089\n",
       "worst symmetry               0.287459\n",
       "worst fractal dimension      0.083484\n",
       "target                       0.622047\n",
       "dtype: float64"
      ]
     },
     "execution_count": 222,
     "metadata": {},
     "output_type": "execute_result"
    }
   ],
   "source": [
    "# Note the means are all different\n",
    "breast_cancer_train.mean()"
   ]
  },
  {
   "cell_type": "code",
   "execution_count": 224,
   "metadata": {},
   "outputs": [
    {
     "data": {
      "text/plain": [
       "mean radius                  3.540208\n",
       "mean texture                 4.221676\n",
       "mean perimeter              24.340978\n",
       "mean area                  356.346608\n",
       "mean smoothness              0.013366\n",
       "mean compactness             0.050056\n",
       "mean concavity               0.078669\n",
       "mean concave points          0.037483\n",
       "mean symmetry                0.026101\n",
       "mean fractal dimension       0.006826\n",
       "radius error                 0.300409\n",
       "texture error                0.549381\n",
       "perimeter error              2.188017\n",
       "area error                  50.967577\n",
       "smoothness error             0.003115\n",
       "compactness error            0.018844\n",
       "concavity error              0.033176\n",
       "concave points error         0.006340\n",
       "symmetry error               0.007916\n",
       "fractal dimension error      0.002861\n",
       "worst radius                 4.936247\n",
       "worst texture                6.008409\n",
       "worst perimeter             34.144444\n",
       "worst area                 589.521477\n",
       "worst smoothness             0.022471\n",
       "worst compactness            0.147734\n",
       "worst concavity              0.205299\n",
       "worst concave points         0.064382\n",
       "worst symmetry               0.057502\n",
       "worst fractal dimension      0.016649\n",
       "target                       0.485513\n",
       "dtype: float64"
      ]
     },
     "execution_count": 224,
     "metadata": {},
     "output_type": "execute_result"
    }
   ],
   "source": [
    "# And the standard deviations vary\n",
    "breast_cancer_train.std()"
   ]
  },
  {
   "cell_type": "code",
   "execution_count": 226,
   "metadata": {},
   "outputs": [
    {
     "name": "stdout",
     "output_type": "stream",
     "text": [
      "1.6085120986695182e-16\n",
      "-2.098059259134154e-17\n",
      "-3.4501418927983867e-16\n",
      "-1.0606855143400446e-16\n"
     ]
    }
   ],
   "source": [
    "# Now column means are all near 0\n",
    "print(breast_cancer_norm_train[:,0].mean())\n",
    "print(breast_cancer_norm_train[:,1].mean())\n",
    "print(breast_cancer_norm_train[:,2].mean())\n",
    "print(breast_cancer_norm_train[:,3].mean())"
   ]
  },
  {
   "cell_type": "code",
   "execution_count": 228,
   "metadata": {},
   "outputs": [
    {
     "name": "stdout",
     "output_type": "stream",
     "text": [
      "1.0\n",
      "1.0\n",
      "1.0\n",
      "0.9999999999999999\n"
     ]
    }
   ],
   "source": [
    "# Now and standard deviations are near 1\n",
    "print(breast_cancer_norm_train[:,0].std())\n",
    "print(breast_cancer_norm_train[:,1].std())\n",
    "print(breast_cancer_norm_train[:,2].std())\n",
    "print(breast_cancer_norm_train[:,3].std())"
   ]
  },
  {
   "cell_type": "markdown",
   "metadata": {
    "nbgrader": {
     "grade": false,
     "grade_id": "cell-2d0dab0264a912db",
     "locked": true,
     "schema_version": 3,
     "solution": false,
     "task": false
    }
   },
   "source": [
    "You will build a pipeline that perform both feature selection (using your earlier function) and z-score normalization."
   ]
  },
  {
   "cell_type": "code",
   "execution_count": 231,
   "metadata": {
    "nbgrader": {
     "grade": false,
     "grade_id": "normalize_feature_select",
     "locked": false,
     "schema_version": 3,
     "solution": true,
     "task": false
    }
   },
   "outputs": [],
   "source": [
    "def normalize_feature_select(X_train, y_train, X_test, k = 7):\n",
    "    \"\"\"\n",
    "    You will build a pipeline that perform the following steps:\n",
    "        1. z-score normalize the x_train and x_test using x_train.\n",
    "        2. perform feature selection.\n",
    "    \n",
    "    Your inputs and outputs are as shown below:\n",
    "    \n",
    "    Input:\n",
    "          x_train: A numpy array of shape (n_training_rows, n_attributes) where n_training_rows refers to \n",
    "              the number of rows in your training dataset and n_attributes refers to the number of attributes. \n",
    "          y_train: A numpy array of shape (n_training_rows, ) containing the class labels for each row in your \n",
    "              training dataset.\n",
    "          x_test: A numpy array of shape (n_test_rows, n_attributes) where n_test_rows refers to the number \n",
    "              of rows in your target dataset and n_attributes refers to the number of attributes. \n",
    "          k: number of features to select.\n",
    "    Output:\n",
    "          x_train_selected: A numpy array of shape (n_train_rows, n_selected_attributes) containing \n",
    "              z-score normalized data from x_train with selected features only. \n",
    "              n_selected_attributes is the number of selected features.\n",
    "          x_test_selected: A numpy array of shape (n_test_rows, n_selected_attributes) containing \n",
    "              z-score normalized data from x_test with selected features only. \n",
    "              n_selected_attributes is the number of selected features.\n",
    "          \n",
    "    Allowed Libraries: sklearn\n",
    "    \"\"\"\n",
    "\n",
    "    ### BEGIN SOLUTION\n",
    "    scaler = StandardScaler().fit(X_train)\n",
    "    X_norm_train = scaler.transform(X_train)\n",
    "    X_norm_test = scaler.transform(X_test)\n",
    "\n",
    "    _, X_train_selected, X_test_selected = feature_selection(X_norm_train, y_train, X_norm_test, k=k)\n",
    "\n",
    "    return X_train_selected, X_test_selected\n",
    "    ### END SOLUTION\n",
    " "
   ]
  },
  {
   "cell_type": "code",
   "execution_count": 233,
   "metadata": {},
   "outputs": [
    {
     "name": "stdout",
     "output_type": "stream",
     "text": [
      "-5.521813049162069e-16\n",
      "0.9999999999999999\n"
     ]
    }
   ],
   "source": [
    "#Test your code!\n",
    "X_norm_selected_train, X_norm_selected_test = normalize_feature_select(X_train, y_train, X_test, k = 7)\n",
    "\n",
    "# Mean of attribute 0 should be 0\n",
    "print(X_norm_selected_train[:,0].mean())\n",
    "# Standard deviation of attriute 0 should be 1\n",
    "print(X_norm_selected_train[:,0].std())"
   ]
  },
  {
   "cell_type": "code",
   "execution_count": 235,
   "metadata": {
    "nbgrader": {
     "grade": true,
     "grade_id": "normalize_feature_select-public",
     "locked": true,
     "points": 3,
     "schema_version": 3,
     "solution": false,
     "task": false
    }
   },
   "outputs": [],
   "source": [
    "# Public tests for feature_selection\n",
    "selected_train, selected_test = normalize_feature_select(X_train, y_train, X_test, 5)\n",
    "assert (selected_train.shape[1] == 5)\n",
    "assert (selected_test.shape[1] == 5)\n",
    "for i in range(0, 5):\n",
    "    np.testing.assert_almost_equal(X_norm_selected_train[:,i].mean(), 0)\n",
    "    np.testing.assert_almost_equal(X_norm_selected_train[:,i].std(), 1)\n",
    "    # test set shouldn't be perfectly centered or scaled\n",
    "    assert X_norm_selected_test[:,i].mean() != 0\n",
    "    assert X_norm_selected_test[:,i].std() != 1"
   ]
  },
  {
   "cell_type": "markdown",
   "metadata": {
    "nbgrader": {
     "grade": false,
     "grade_id": "cell-b77e84f5052da690",
     "locked": true,
     "schema_version": 3,
     "solution": false,
     "task": false
    }
   },
   "source": [
    "Now is the moment of truth - did the decision tree improve our classifier? Let's compare."
   ]
  },
  {
   "cell_type": "code",
   "execution_count": 238,
   "metadata": {},
   "outputs": [
    {
     "data": {
      "text/plain": [
       "0.9035087719298246"
      ]
     },
     "execution_count": 238,
     "metadata": {},
     "output_type": "execute_result"
    }
   ],
   "source": [
    "# First, let's recreate the original decision tree.\n",
    "dtree_predictions = decision_tree_function(X_train, y_train, X_test, 1234) # Random see for consistency\n",
    "accuracy_score(dtree_predictions, y_test)"
   ]
  },
  {
   "cell_type": "code",
   "execution_count": 240,
   "metadata": {},
   "outputs": [
    {
     "data": {
      "text/plain": [
       "0.9122807017543859"
      ]
     },
     "execution_count": 240,
     "metadata": {},
     "output_type": "execute_result"
    }
   ],
   "source": [
    "# Next the normalized, feature selected tree\n",
    "dtree_norm_selected_predictions = decision_tree_function(X_norm_selected_train, y_train, X_norm_selected_test, 1234)\n",
    "accuracy_score(dtree_norm_selected_predictions, y_test)"
   ]
  },
  {
   "cell_type": "markdown",
   "metadata": {
    "nbgrader": {
     "grade": false,
     "grade_id": "cell-0d8760508efb3d84",
     "locked": true,
     "schema_version": 3,
     "solution": false,
     "task": false
    }
   },
   "source": [
    "Which features did better - the originals or the normalized, feature selected ones? How much of a difference did preprocessing make? Based on what you know about decision trees, z-score normalization and feature selection, why do you think this was the case? Answer below in 2-3 sentences."
   ]
  },
  {
   "cell_type": "markdown",
   "metadata": {
    "nbgrader": {
     "grade": true,
     "grade_id": "comparing-trees",
     "locked": false,
     "points": 3,
     "schema_version": 3,
     "solution": true,
     "task": false
    }
   },
   "source": [
    "The normalized and feature-selected features performed better. Feature selection reduces the noise and unnecesary data and z-normalisation ensures that all features have uniform contribution, hence the model's efficiency becomes better. This preprocessing reduces overfitting and can enhance the decision tree's generalization on unseen data."
   ]
  },
  {
   "cell_type": "markdown",
   "metadata": {
    "nbgrader": {
     "grade": false,
     "grade_id": "cell-980493e5987405de23",
     "locked": true,
     "schema_version": 3,
     "solution": false,
     "task": false
    }
   },
   "source": [
    "## 6. PCA [Sogolsadat Mansouri]"
   ]
  },
  {
   "cell_type": "markdown",
   "metadata": {
    "nbgrader": {
     "grade": false,
     "grade_id": "cell-c1694bc4582d3eed",
     "locked": true,
     "schema_version": 3,
     "solution": false,
     "task": false
    }
   },
   "source": [
    "## Examples\n",
    "\n",
    "You can perform PCA in python using the scikit-learn library. Take a look at the [documentation](https://scikit-learn.org/stable/modules/generated/sklearn.decomposition.PCA.html) to get a clear understanding of all function arguments.\n",
    "\n",
    "Given below is a simple toy example for you to learn how to use PCA. "
   ]
  },
  {
   "cell_type": "code",
   "execution_count": 246,
   "metadata": {
    "nbgrader": {
     "grade": false,
     "grade_id": "cell-def830bb53f756ad",
     "locked": true,
     "schema_version": 3,
     "solution": false,
     "task": false
    }
   },
   "outputs": [],
   "source": [
    "# let's use a toy dataset to demonstrate PCA. We are using the wine dataset from sklearn.datasets as our toy dataset.\n",
    "# We will apply PCA on it and extract the first two principal components. \n",
    "# While there are ways to directly extract the principal components using the sklearn methods, for the purpose \n",
    "# of this exercise, we will first extract the eigen vectors and then calculate the principal components from these eigen vectors. \n",
    "\n",
    "# first, load and z-score normalize the data\n",
    "breast_cancer_sk = datasets.load_wine(as_frame=True)\n",
    "breast_cancer = pd.DataFrame(StandardScaler().fit_transform(breast_cancer_sk.data), columns = breast_cancer_sk.feature_names)\n",
    "\n",
    "# Display the dataset for your reference\n",
    "# note that you can use the display() method to display your pandas dataframe in Jupyter\n",
    "#display(toy_dataset)\n",
    "\n",
    "# apply PCA on the toy dataset and extract the eigen vectors of the first two principal components\n",
    "breast_cancer_pca = PCA(n_components = 2).fit(breast_cancer)\n",
    "breast_cancer_eigen_vectors = breast_cancer_pca.components_\n",
    "\n",
    "# now extract the first two principal components\n",
    "# Recall from class material how to do this.  \n",
    "# Take a look at matrix multiplication using numpy here: \n",
    "# https://numpy.org/doc/stable/reference/generated/numpy.matmul.html\n",
    "breast_cancer_principal_components = np.matmul(breast_cancer.values , breast_cancer_eigen_vectors.T)\n"
   ]
  },
  {
   "cell_type": "code",
   "execution_count": 248,
   "metadata": {},
   "outputs": [
    {
     "name": "stdout",
     "output_type": "stream",
     "text": [
      "(13, 2)\n",
      "(178, 13)\n"
     ]
    }
   ],
   "source": [
    "# Explore the outputs of the eigen vectors and principal components to gain a better understanding\n",
    "# Explore other outputs...\n",
    "print(breast_cancer_eigen_vectors.T.shape)\n",
    "print(breast_cancer.values.shape)"
   ]
  },
  {
   "cell_type": "markdown",
   "metadata": {
    "nbgrader": {
     "grade": false,
     "grade_id": "cell-5ba4a2707304846b",
     "locked": true,
     "schema_version": 3,
     "solution": false,
     "task": false
    }
   },
   "source": [
    "### 6.1: Extracting Eigen Vectors"
   ]
  },
  {
   "cell_type": "code",
   "execution_count": 251,
   "metadata": {
    "nbgrader": {
     "grade": false,
     "grade_id": "principal_component_analysis",
     "locked": false,
     "schema_version": 3,
     "solution": true,
     "task": false
    }
   },
   "outputs": [],
   "source": [
    "# Problem 1\n",
    "def principal_component_analysis(data, n_components):\n",
    "    \"\"\"\n",
    "    Input: \n",
    "          data: Data frame with M numeric attributes.\n",
    "          n_components: the number of principal components to calculate \n",
    "                        (e.g. 2 for two principal components)\n",
    "    Output:\n",
    "          a numpy array of floating point numbers of shape (n_components, M), \n",
    "          containing the first n_components eigen vectors.\n",
    "            \n",
    "    \"\"\"\n",
    "    return PCA(n_components = n_components).fit(data).components_\n",
    "  "
   ]
  },
  {
   "cell_type": "code",
   "execution_count": 253,
   "metadata": {},
   "outputs": [
    {
     "data": {
      "text/plain": [
       "array([4.99525297e-03, 2.14514374e-03, 3.45336870e-02, 5.14453612e-01,\n",
       "       3.88827136e-06, 4.03315839e-05, 8.18903314e-05, 4.75569636e-05])"
      ]
     },
     "execution_count": 253,
     "metadata": {},
     "output_type": "execute_result"
    }
   ],
   "source": [
    "principal_component_analysis(X_train, 2)[0, :8]"
   ]
  },
  {
   "cell_type": "code",
   "execution_count": 255,
   "metadata": {},
   "outputs": [
    {
     "data": {
      "text/plain": [
       "(2, 30)"
      ]
     },
     "execution_count": 255,
     "metadata": {},
     "output_type": "execute_result"
    }
   ],
   "source": [
    "# Test your function!\n",
    "# note that you can convert your pandas data frame into a numpy matrix by using the dataframe.values property\n",
    "eigen_vectors = principal_component_analysis(X_train, 2)\n",
    "# Each of the 2 eigen vectors should have a value/weight for each of the original 13 attributes\n",
    "eigen_vectors.shape"
   ]
  },
  {
   "cell_type": "code",
   "execution_count": 257,
   "metadata": {
    "nbgrader": {
     "grade": true,
     "grade_id": "principal_component_analysis-public",
     "locked": true,
     "points": 5,
     "schema_version": 3,
     "solution": false,
     "task": false
    }
   },
   "outputs": [],
   "source": [
    "assert principal_component_analysis(X_train, 2).shape == (2, 30)\n",
    "np.testing.assert_almost_equal(\n",
    "    principal_component_analysis(X_train, 2)[0, :8], \n",
    "    np.array(\n",
    "        [4.99525297e-03, 2.14514374e-03, 3.45336870e-02, 5.14453612e-01,\n",
    "       3.88827136e-06, 4.03315839e-05, 8.18903314e-05, 4.75569636e-05]\n",
    "    )\n",
    ")"
   ]
  },
  {
   "cell_type": "markdown",
   "metadata": {
    "nbgrader": {
     "grade": false,
     "grade_id": "cell-b8065cf6aaf5b93c",
     "locked": true,
     "schema_version": 3,
     "solution": false,
     "task": false
    }
   },
   "source": [
    "### 6.2. Calculating Principal Components from Eigen Vectors"
   ]
  },
  {
   "cell_type": "code",
   "execution_count": 260,
   "metadata": {
    "nbgrader": {
     "grade": false,
     "grade_id": "principal_component_calculation",
     "locked": false,
     "schema_version": 3,
     "solution": true,
     "task": false
    }
   },
   "outputs": [],
   "source": [
    "# Problem 2\n",
    "def principal_component_calculation(data, component_weights):\n",
    "    \"\"\"\n",
    "    Input: \n",
    "          data: A data frame with N rows and M numeric attributes (e.g. 178 x 13). \n",
    "          component_weights: a numpy array of shape (n_components, M) containing the weights (eigen vector) of \n",
    "              the first n_components principal components \n",
    "              (i.e. the output from running principal_component_analysis from problem 1)\n",
    "    Output:\n",
    "          a pandas dataframe of shape (N, n_components) ontaining the n_components principal components,\n",
    "          calculated for each of the N rows in data.\n",
    "    Hint: Can you solve this with matrix multiplication? Check out the np.matmul function.\n",
    "    \"\"\"\n",
    "    data_matrix = data.to_numpy()  # Shape (N, M)\n",
    "\n",
    "    # Perform matrix multiplication to calculate the principal components\n",
    "    principal_components = np.matmul(data_matrix, component_weights.T)  # Shape (N, n_components)\n",
    "\n",
    "    # Convert the result back into a pandas DataFrame\n",
    "    return pd.DataFrame(principal_components, columns=[f\"PC{i+1}\" for i in range(component_weights.shape[0])])\n",
    "\n"
   ]
  },
  {
   "cell_type": "code",
   "execution_count": 262,
   "metadata": {},
   "outputs": [
    {
     "name": "stdout",
     "output_type": "stream",
     "text": [
      "Principal components are =             PC1         PC2\n",
      "0    868.291103 -164.411521\n",
      "1    418.093546  -55.437415\n",
      "2    374.966714  -64.673713\n",
      "3    955.426179 -169.519136\n",
      "4    775.242686 -134.497198\n",
      "..          ...         ...\n",
      "336  780.278195  -83.161657\n",
      "337  915.691687  -92.041880\n",
      "338  836.047126  -67.430863\n",
      "339  812.934184 -126.096073\n",
      "340  888.198708  -31.182813\n",
      "\n",
      "[341 rows x 2 columns] and their shape is (341, 2)\n"
     ]
    }
   ],
   "source": [
    "# Test your function\n",
    "\n",
    "# note that eigen_vectors are the eigen vectors you calculated earlier using principal_component_analysis. \n",
    "# We're calculating it again here for ease of use\n",
    "eigen_vectors = principal_component_analysis(X_train, 2)\n",
    "principal_component_values = principal_component_calculation(X_train, eigen_vectors)\n",
    "print(f'Principal components are = {principal_component_values} and their shape is {principal_component_values.shape}')"
   ]
  },
  {
   "cell_type": "code",
   "execution_count": 264,
   "metadata": {},
   "outputs": [
    {
     "name": "stdout",
     "output_type": "stream",
     "text": [
      "[[ 4.99525297e-03  2.14514374e-03  3.45336870e-02  5.14453612e-01\n",
      "   3.88827136e-06  4.03315839e-05  8.18903314e-05  4.75569636e-05\n",
      "   7.00011566e-06 -2.48710770e-06  2.95116178e-04 -5.72400524e-05\n",
      "   2.12725805e-03  5.32352216e-02 -8.02364907e-07  5.63169918e-06\n",
      "   9.03078792e-06  3.52992357e-06 -1.41042728e-06  3.06914401e-08\n",
      "   7.03136693e-03  3.11704543e-03  4.89055284e-02  8.53712941e-01\n",
      "   5.96952182e-06  1.01849689e-04  1.68022565e-04  7.33910241e-05\n",
      "   1.79987844e-05  2.16882881e-06]\n",
      " [-1.02756341e-02  9.00565025e-04 -6.82543285e-02 -8.52260367e-01\n",
      "   2.44253342e-05  2.69513992e-05 -5.00602471e-05 -4.32780781e-05\n",
      "   4.08272644e-05  2.27374671e-05  5.12275691e-04 -9.11790549e-05\n",
      "   2.71477307e-03  8.41653188e-02 -2.75738416e-07 -8.30793021e-06\n",
      "  -2.36040251e-05 -1.25544358e-05 -2.56350331e-06  7.04610664e-07\n",
      "  -5.53225220e-04  1.12902056e-02 -6.72828947e-03  5.11490545e-01\n",
      "   8.18704642e-05  2.69429395e-04  1.70943561e-04  8.60904205e-06\n",
      "   1.68797557e-04  6.31327231e-05]]\n"
     ]
    }
   ],
   "source": [
    "print(eigen_vectors)"
   ]
  },
  {
   "cell_type": "code",
   "execution_count": 266,
   "metadata": {
    "nbgrader": {
     "grade": true,
     "grade_id": "principal_component_calculation-public",
     "locked": true,
     "points": 3,
     "schema_version": 3,
     "solution": false,
     "task": false
    }
   },
   "outputs": [],
   "source": [
    "test_eigen_vectors = principal_component_analysis(X_train, 2)\n",
    "test_pc = principal_component_calculation(X_train, test_eigen_vectors)\n",
    "assert test_pc.shape == (X_train.shape[0], 2)\n",
    "np.testing.assert_almost_equal(test_pc.iloc[0, :].values, [868.291104, -164.411521], decimal=6)"
   ]
  },
  {
   "cell_type": "markdown",
   "metadata": {
    "nbgrader": {
     "grade": false,
     "grade_id": "cell-b1eb7d2a4006c6a3",
     "locked": true,
     "schema_version": 3,
     "solution": false,
     "task": false
    }
   },
   "source": [
    "### 6.3: Visualize your results\n",
    "\n",
    "You've gained familiarity with matplotlib in HW0. Now use matplotlib to\n",
    "\n",
    "a) generate a plot with the first principal component on x-axis, second principal component on y-axis. \n",
    "\n",
    "b) Assign color to each data point according to the target value. You can do this using the splitted y_train or y_test, depending on which set you are plotting.  \n",
    "\n",
    "***Hint 1:*** Take a look at the [plt.scatter](https://matplotlib.org/3.3.3/api/_as_gen/matplotlib.pyplot.scatter.html) function. Pay close attention to the 'c' variable. \n",
    "\n",
    "c) Name the x-axis as \"PC1\", y-axis as \"PC2\""
   ]
  },
  {
   "cell_type": "code",
   "execution_count": 276,
   "metadata": {},
   "outputs": [
    {
     "data": {
      "image/png": "[encoded data removed]",
      "text/plain": [
       "<Figure size 640x480 with 1 Axes>"
      ]
     },
     "metadata": {},
     "output_type": "display_data"
    }
   ],
   "source": [
    "# This is an example of a scatter plot, using the bmi and age of participants\n",
    "plt.scatter(X_train.iloc[:, 0], X_train.iloc[:, 2], c=y_train)\n",
    "plt.xlabel(X_train.columns[0])\n",
    "plt.ylabel(X_train.columns[2])\n",
    "plt.show()\n",
    "\n",
    "# How well does this plot separate the 2 different classes?\n",
    "It does not seperate the values well since there is a significant overlap making the difference not visible clearly."
   ]
  },
  {
   "cell_type": "code",
   "execution_count": 278,
   "metadata": {
    "nbgrader": {
     "grade": true,
     "grade_id": "cell-c684b0d6c8af3bab",
     "locked": false,
     "points": 4,
     "schema_version": 3,
     "solution": true,
     "task": false
    }
   },
   "outputs": [
    {
     "data": {
      "image/png": "[encoded data removed]",
      "text/plain": [
       "<Figure size 640x480 with 1 Axes>"
      ]
     },
     "metadata": {},
     "output_type": "display_data"
    }
   ],
   "source": [
    "# Problem 3 (see question above)\n",
    "\n",
    "# recalculating eigen vectors and principal components for ease of use\n",
    "eigen_vectors = principal_component_analysis(X_train, 2)\n",
    "principal_component_values = principal_component_calculation(X_train, eigen_vectors)\n",
    "\n",
    "## BEGIN SOLUTION\n",
    "plt.scatter(principal_component_values.iloc[:, 0], principal_component_values.iloc[:, 1], c=y_train)\n",
    "plt.xlabel(\"PC1\")\n",
    "plt.ylabel(\"PC2\")\n",
    "plt.show()\n",
    "## END SOLUTION\n"
   ]
  },
  {
   "cell_type": "markdown",
   "metadata": {},
   "source": [
    "Do the first 2 PCs separate the data better than the first 2 numeric attributes?"
   ]
  },
  {
   "cell_type": "code",
   "execution_count": null,
   "metadata": {},
   "outputs": [],
   "source": [
    "Yes, they do since there is a lot more clarity due to scattered plotting of data."
   ]
  }
 ],
 "metadata": {
  "celltoolbar": "Create Assignment",
  "kernelspec": {
   "display_name": "Python 3 (ipykernel)",
   "language": "python",
   "name": "python3"
  },
  "language_info": {
   "codemirror_mode": {
    "name": "ipython",
    "version": 3
   },
   "file_extension": ".py",
   "mimetype": "text/x-python",
   "name": "python",
   "nbconvert_exporter": "python",
   "pygments_lexer": "ipython3",
   "version": "3.12.4"
  }
 },
 "nbformat": 4,
 "nbformat_minor": 4
}
